{
  "cells": [
    {
      "cell_type": "code",
      "execution_count": null,
      "metadata": {
        "collapsed": false
      },
      "outputs": [],
      "source": [
        "%matplotlib inline"
      ]
    },
    {
      "cell_type": "markdown",
      "metadata": {},
      "source": [
        "\n# The Entropic Braiding Index (eBI): a robust metric to account for the diversity of channel scales in multi-thread rivers \n*Alejandro Tejedor, Jon Schwenk, Maarten Kleinhans, Ajay B. Limaye,\nLawrence Vulis, Paul Carling, Holger Kantz, Efi Foufoula-Georgiou*\n\n[This publication](https://agupubs.onlinelibrary.wiley.com/doi/abs/10.1029/2022GL099681)\nused RivGraph to extract channel counts and widths in order to present and test\na new index of river multithreadedness\n\n<img src=\"file://../gallery_source/images/tejedor_et_al_2022.PNG\">\n"
      ]
    },
    {
      "cell_type": "code",
      "execution_count": null,
      "metadata": {
        "collapsed": false
      },
      "outputs": [],
      "source": [
        "# RivGraph was applied to the Indus River to compute the Braiding Index (BI) and\n# the new Entropic Braiding Index (eBI) at various cross sections."
      ]
    }
  ],
  "metadata": {
    "kernelspec": {
      "display_name": "Python 3",
      "language": "python",
      "name": "python3"
    },
    "language_info": {
      "codemirror_mode": {
        "name": "ipython",
        "version": 3
      },
      "file_extension": ".py",
      "mimetype": "text/x-python",
      "name": "python",
      "nbconvert_exporter": "python",
      "pygments_lexer": "ipython3",
      "version": "3.9.13"
    }
  },
  "nbformat": 4,
  "nbformat_minor": 0
}