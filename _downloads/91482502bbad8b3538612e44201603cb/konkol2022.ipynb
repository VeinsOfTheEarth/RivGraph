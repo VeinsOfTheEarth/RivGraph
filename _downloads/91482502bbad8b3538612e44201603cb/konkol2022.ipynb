{
  "cells": [
    {
      "cell_type": "code",
      "execution_count": null,
      "metadata": {
        "collapsed": false
      },
      "outputs": [],
      "source": [
        "%matplotlib inline"
      ]
    },
    {
      "cell_type": "markdown",
      "metadata": {},
      "source": [
        "\n# Interplay of river and tidal forcings promotes loops in coastal channel networks\n*Adam Konkol, Jon Schwenk, Eleni Katifori, and John Shaw*\n\n[This publication](https://agupubs.onlinelibrary.wiley.com/doi/pdf/10.1029/2022GL098284)\nused RivGraph to determine the \"loopiness\" of 21 natural delta channel networks. \n\n<img src=\"file://../gallery_source/images/konkol_et_al_2022.PNG\">\n"
      ]
    },
    {
      "cell_type": "code",
      "execution_count": null,
      "metadata": {
        "collapsed": false
      },
      "outputs": [],
      "source": [
        "# RivGraph was used to find loops in channel networks.\n# Here, islands enclosed by loops are colored purple.\n# (A) Mississppi, (B) Orinoco, (C) Rajang, (D) Barnstable Marsh"
      ]
    }
  ],
  "metadata": {
    "kernelspec": {
      "display_name": "Python 3",
      "language": "python",
      "name": "python3"
    },
    "language_info": {
      "codemirror_mode": {
        "name": "ipython",
        "version": 3
      },
      "file_extension": ".py",
      "mimetype": "text/x-python",
      "name": "python",
      "nbconvert_exporter": "python",
      "pygments_lexer": "ipython3",
      "version": "3.9.13"
    }
  },
  "nbformat": 4,
  "nbformat_minor": 0
}