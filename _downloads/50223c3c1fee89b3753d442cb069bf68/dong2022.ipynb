{
  "cells": [
    {
      "cell_type": "code",
      "execution_count": null,
      "metadata": {
        "collapsed": false
      },
      "outputs": [],
      "source": [
        "%matplotlib inline"
      ]
    },
    {
      "cell_type": "markdown",
      "metadata": {},
      "source": [
        "\n# Quantitative relationships between river and channel-belt planform patterns \n*Tian Dong and Timothy Goudge*\n\n[This publication](https://pubs.geoscienceworld.org/gsa/geology/article/doi/10.1130/G49935.1/614344/Quantitative-relationships-between-river-and)\nused RivGraph to find channel centerlines, widths, and number of channels en\nroute to finding new relationships between river planforms and their channel\nbelts.\n\n<img src=\"file://../gallery_source/images/dong_et_al_2022.PNG\">\n"
      ]
    },
    {
      "cell_type": "code",
      "execution_count": null,
      "metadata": {
        "collapsed": false
      },
      "outputs": [],
      "source": [
        "# Using RivGraph to determine a centerline and its transects along the Missouri \n# River. (B) shows planform metrics measured along the channel."
      ]
    }
  ],
  "metadata": {
    "kernelspec": {
      "display_name": "Python 3",
      "language": "python",
      "name": "python3"
    },
    "language_info": {
      "codemirror_mode": {
        "name": "ipython",
        "version": 3
      },
      "file_extension": ".py",
      "mimetype": "text/x-python",
      "name": "python",
      "nbconvert_exporter": "python",
      "pygments_lexer": "ipython3",
      "version": "3.9.13"
    }
  },
  "nbformat": 4,
  "nbformat_minor": 0
}