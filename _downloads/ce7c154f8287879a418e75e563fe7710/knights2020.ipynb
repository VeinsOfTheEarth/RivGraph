{
  "cells": [
    {
      "cell_type": "code",
      "execution_count": null,
      "metadata": {
        "collapsed": false
      },
      "outputs": [],
      "source": [
        "%matplotlib inline"
      ]
    },
    {
      "cell_type": "markdown",
      "metadata": {},
      "source": [
        "\n# Nitrate Removal Across Ecogeomorphic Zones in Wax Lake Delta, Louisiana (USA)\n*Deon Knights, Audrey H. Sawyer, Rebecca T. Barnes, Anastasia Piliouras, \nJon Schwenk, Douglas A. Edmonds, and Alexander M. Brown*\n\n`This publication <https://agupubs.onlinelibrary.wiley.com/doi/pdf/10.1029/2019WR026867>`_\nmade use of RivGraph's flux modeling to estimate nitrate uptake rates\nin channels on the Wax Lake Delta. \n\n<img src=\"file://../gallery_source/images/knights_et_al_2020.PNG\">\n"
      ]
    },
    {
      "cell_type": "code",
      "execution_count": null,
      "metadata": {
        "collapsed": false
      },
      "outputs": [],
      "source": [
        "# (left) Removal rate calculated using submerged\u2010delta approach. (right) Removal rate calculated using \n# nutrient spiraling approach as a percentage of amount of nitrate entering each link."
      ]
    }
  ],
  "metadata": {
    "kernelspec": {
      "display_name": "Python 3",
      "language": "python",
      "name": "python3"
    },
    "language_info": {
      "codemirror_mode": {
        "name": "ipython",
        "version": 3
      },
      "file_extension": ".py",
      "mimetype": "text/x-python",
      "name": "python",
      "nbconvert_exporter": "python",
      "pygments_lexer": "ipython3",
      "version": "3.9.13"
    }
  },
  "nbformat": 4,
  "nbformat_minor": 0
}