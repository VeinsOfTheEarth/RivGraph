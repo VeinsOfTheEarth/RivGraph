{
  "cells": [
    {
      "cell_type": "code",
      "execution_count": null,
      "metadata": {
        "collapsed": false
      },
      "outputs": [],
      "source": [
        "%matplotlib inline"
      ]
    },
    {
      "cell_type": "markdown",
      "metadata": {},
      "source": [
        "\n# Width-Based Discharge Partitioning in Distributary Networks: How Right We Are\n*Jay Hariharan, Anastasia Piliouras, Jon Schwenk, and Paola Passalacqua*\n\n`This publication <https://agupubs.onlinelibrary.wiley.com/doi/full/10.1029/2022GL097897>`_\nused RivGraph to test optimal discharge partitioning schemes at channel bifurcations. \n\n<img src=\"file://../gallery_source/images/hariharan_et_al_2022.PNG\">\n"
      ]
    },
    {
      "cell_type": "code",
      "execution_count": null,
      "metadata": {
        "collapsed": false
      },
      "outputs": [],
      "source": [
        "# (left) RivGraph-derived normalized discharges for the Mahakam River. \n# (right) Error values comparing in-situ measurements to RivGraph-derived ones."
      ]
    }
  ],
  "metadata": {
    "kernelspec": {
      "display_name": "Python 3",
      "language": "python",
      "name": "python3"
    },
    "language_info": {
      "codemirror_mode": {
        "name": "ipython",
        "version": 3
      },
      "file_extension": ".py",
      "mimetype": "text/x-python",
      "name": "python",
      "nbconvert_exporter": "python",
      "pygments_lexer": "ipython3",
      "version": "3.10.4"
    }
  },
  "nbformat": 4,
  "nbformat_minor": 0
}