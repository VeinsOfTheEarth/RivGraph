{
  "cells": [
    {
      "cell_type": "code",
      "execution_count": null,
      "metadata": {
        "collapsed": false
      },
      "outputs": [],
      "source": [
        "%matplotlib inline"
      ]
    },
    {
      "cell_type": "markdown",
      "metadata": {},
      "source": [
        "\n# Seasonal and Morphological Controls on Nitrate Retention in Arctic Deltas\n*Deon Knights, Anastasia Piliouras, Jon Schwenk, Jayaram Hariharan, and\nChristopher Russoniello*\n\n`This publication <https://agupubs.onlinelibrary.wiley.com/doi/10.1029/2022GL102201>`_\nmade use of RivGraph's flux modeling to estimate nitrate retention in Arctic\nriver deltas.\n\n<img src=\"file://../gallery_source/images/knights_et_al_2023.jpg\">\n"
      ]
    },
    {
      "cell_type": "code",
      "execution_count": null,
      "metadata": {
        "collapsed": false
      },
      "outputs": [],
      "source": [
        "# Maps of nitrate concentration for the (a) Yenisei, (b) Yukon, (c) Kolyma,\n# (d) Mackenzie, and (e) Lena deltas. Hollow arrows represent general flow\n# direction. Concentrations at each link are relative to the maximum load\n# entering each delta. Mean discharge, temperature, and inflow concentration\n# measured at the delta apices (solid red dots) by the Arctic Great Rivers\n# Observatory were used to parametrize the model. Hollow red dots represent\n# ungauged inlet nodes. The thickness of each link is linearly weighted by\n# discharge with the thickest and thinnest lines representing discharges of\n# 19,300 and 0.129 m3s\u22121, respectively. Values in red are simulated retention\n# rates in percent and metric tons per day, respectively. (f) Map of the\n# watersheds drained by the Kolyma (K), Lena (L), Mackenzie (M), Yenisei (Ye),\n# and Yukon (Yu)."
      ]
    }
  ],
  "metadata": {
    "kernelspec": {
      "display_name": "Python 3",
      "language": "python",
      "name": "python3"
    },
    "language_info": {
      "codemirror_mode": {
        "name": "ipython",
        "version": 3
      },
      "file_extension": ".py",
      "mimetype": "text/x-python",
      "name": "python",
      "nbconvert_exporter": "python",
      "pygments_lexer": "ipython3",
      "version": "3.10.4"
    }
  },
  "nbformat": 4,
  "nbformat_minor": 0
}